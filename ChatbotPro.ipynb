{
  "nbformat": 4,
  "nbformat_minor": 0,
  "metadata": {
    "colab": {
      "name": "ChatbotPro",
      "provenance": [],
      "authorship_tag": "ABX9TyOtMPmcnxkR16KC9V/K0/X6",
      "include_colab_link": true
    },
    "kernelspec": {
      "name": "python3",
      "display_name": "Python 3"
    },
    "language_info": {
      "name": "python"
    }
  },
  "cells": [
    {
      "cell_type": "markdown",
      "metadata": {
        "id": "view-in-github",
        "colab_type": "text"
      },
      "source": [
        "<a href=\"https://colab.research.google.com/github/sardarishabh/Smart-ChatBot/blob/main/ChatbotPro.ipynb\" target=\"_parent\"><img src=\"https://colab.research.google.com/assets/colab-badge.svg\" alt=\"Open In Colab\"/></a>"
      ]
    },
    {
      "cell_type": "markdown",
      "metadata": {
        "id": "_W2T0zEMMCHU"
      },
      "source": [
        "Import Libs\n"
      ]
    },
    {
      "cell_type": "code",
      "metadata": {
        "id": "GIZoIl6UqNyH"
      },
      "source": [
        "import numpy as np\n",
        "import nltk\n",
        "import string\n",
        "import random\n",
        "import keras\n",
        "\n",
        "f=open(\"chatbot.txt\",\"r\",errors=\"ignore\")\n",
        "raw_doc=f.read()\n",
        "raw_doc=raw_doc.lower()\n",
        "nltk.download(\"punkt\")\n",
        "nltk.download(\"wordnet\")\n",
        "sent_tokens=nltk.sent_tokenize(raw_doc)\n",
        "word_tokens=nltk.word_tokenize(raw_doc)\n"
      ],
      "execution_count": null,
      "outputs": []
    },
    {
      "cell_type": "code",
      "metadata": {
        "id": "C8W13mZyU8Uu"
      },
      "source": [
        "\n",
        "GREET_INPUTS = (\"hello\", \"hi\", \"greetings\", \"sup\", \"what's up\",\"hey\") \n",
        "GREET_RESPONSES = [\"hi\", \"hey\", \"*nods*\", \"hi there\", \"hello\", \"I am glad! You are talking to me\"] \n",
        "def greet(sentence):\n",
        "\n",
        "    for word in sentence.split(): \n",
        "      if word.lower() in GREET_INPUTS: \n",
        "        return random.choice(GREET_RESPONSES) \n",
        "\n",
        "from sklearn.feature_extraction.text import TfidfVectorizer\n",
        "from sklearn.metrics.pairwise import cosine_similarity\n",
        "lemmer = nltk.stem.WordNetLemmatizer() \n",
        "#WordNet is a semantically-oriented dictionary of English included in NLTK. \n",
        "def LemTokens(tokens): \n",
        "    return [lemmer.lemmatize(token) for token in tokens] \n",
        "remove_punct_dict = dict((ord(punct), None) for punct in string.punctuation) \n",
        "def LemNormalize(text): \n",
        "    return LemTokens(nltk.word_tokenize(text.lower().translate(remove_punct_dict))) \n",
        "def response(user_response):\n",
        "  robo1_response='' \n",
        "  TfidfVec = TfidfVectorizer(tokenizer=LemNormalize, stop_words='english') \n",
        "  tfidf = TfidfVec.fit_transform(sent_tokens) \n",
        "  vals = cosine_similarity(tfidf[-1 ], tfidf) \n",
        "  idx=vals.argsort()[0][-2] \n",
        "  flat = vals.flatten() \n",
        "  flat.sort() \n",
        "  req_tfidf = flat[-2] \n",
        "  if(req_tfidf==0):\n",
        "     robo1_response=robo1_response+\"I am sorry! I don't understand you\" \n",
        "     return robo1_response \n",
        "  else: \n",
        "    robo1_response = robo1_response+sent_tokens[idx] \n",
        "    return robo1_response \n",
        "flag=True \n",
        "print(\"BOT: My name is RISVI. Let's have a conversation! Also, if you want to exit any time, just type Bye!\") \n",
        "while(flag==True): \n",
        "  user_response = input() \n",
        "  user_response=user_response.lower() \n",
        "  if(user_response!='bye'): \n",
        "    if(user_response=='thanks' or user_response=='thank you' ): \n",
        "      flag=False \n",
        "      print(\"BOT: You are welcome..\") \n",
        "    else: \n",
        "      if(greet(user_response)!=None): \n",
        "          print(\"BOT: \"+greet(user_response)) \n",
        "      else: \n",
        "          sent_tokens.append(user_response) \n",
        "          word_tokens=word_tokens+nltk.word_tokenize(user_response) \n",
        "          final_words=list(set(word_tokens))\n",
        "          print(\"BOT:\",end=\"\")\n",
        "          print(response(user_response))\n",
        "          sent_tokens.remove(user_response)\n",
        "  else:\n",
        "      flag=False\n",
        "      print(\"BOT: Goodbye! Take care <3\")\n",
        "\n"
      ],
      "execution_count": null,
      "outputs": []
    }
  ]
}